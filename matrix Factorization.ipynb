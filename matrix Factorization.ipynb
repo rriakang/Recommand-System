{
 "cells": [
  {
   "cell_type": "markdown",
   "metadata": {},
   "source": [
    "추천 시스템 - 협엄 필터링 Matrix Factorization\n",
    "\n"
   ]
  },
  {
   "cell_type": "code",
   "execution_count": 1,
   "metadata": {},
   "outputs": [],
   "source": [
    "from sklearn.decomposition import TruncatedSVD\n",
    "from scipy.sparse.linalg import svds\n",
    "\n",
    "import matplotlib.pyplot as plt\n",
    "import seaborn as sns\n",
    "import pandas as pd\n",
    "import numpy as np\n",
    "import warnings\n",
    "warnings.filterwarnings(\"ignore\")"
   ]
  },
  {
   "cell_type": "code",
   "execution_count": 7,
   "metadata": {},
   "outputs": [],
   "source": [
    "rating_data = pd.read_csv('./data/ratings.csv')\n",
    "movie_data = pd.read_csv('./data/movies.csv')"
   ]
  },
  {
   "cell_type": "code",
   "execution_count": 8,
   "metadata": {},
   "outputs": [
    {
     "data": {
      "text/html": [
       "<div>\n",
       "<style scoped>\n",
       "    .dataframe tbody tr th:only-of-type {\n",
       "        vertical-align: middle;\n",
       "    }\n",
       "\n",
       "    .dataframe tbody tr th {\n",
       "        vertical-align: top;\n",
       "    }\n",
       "\n",
       "    .dataframe thead th {\n",
       "        text-align: right;\n",
       "    }\n",
       "</style>\n",
       "<table border=\"1\" class=\"dataframe\">\n",
       "  <thead>\n",
       "    <tr style=\"text-align: right;\">\n",
       "      <th></th>\n",
       "      <th>userId</th>\n",
       "      <th>movieId</th>\n",
       "      <th>rating</th>\n",
       "      <th>timestamp</th>\n",
       "    </tr>\n",
       "  </thead>\n",
       "  <tbody>\n",
       "    <tr>\n",
       "      <th>0</th>\n",
       "      <td>1</td>\n",
       "      <td>31</td>\n",
       "      <td>2.5</td>\n",
       "      <td>1260759144</td>\n",
       "    </tr>\n",
       "    <tr>\n",
       "      <th>1</th>\n",
       "      <td>1</td>\n",
       "      <td>1029</td>\n",
       "      <td>3.0</td>\n",
       "      <td>1260759179</td>\n",
       "    </tr>\n",
       "    <tr>\n",
       "      <th>2</th>\n",
       "      <td>1</td>\n",
       "      <td>1061</td>\n",
       "      <td>3.0</td>\n",
       "      <td>1260759182</td>\n",
       "    </tr>\n",
       "    <tr>\n",
       "      <th>3</th>\n",
       "      <td>1</td>\n",
       "      <td>1129</td>\n",
       "      <td>2.0</td>\n",
       "      <td>1260759185</td>\n",
       "    </tr>\n",
       "    <tr>\n",
       "      <th>4</th>\n",
       "      <td>1</td>\n",
       "      <td>1172</td>\n",
       "      <td>4.0</td>\n",
       "      <td>1260759205</td>\n",
       "    </tr>\n",
       "  </tbody>\n",
       "</table>\n",
       "</div>"
      ],
      "text/plain": [
       "   userId  movieId  rating   timestamp\n",
       "0       1       31     2.5  1260759144\n",
       "1       1     1029     3.0  1260759179\n",
       "2       1     1061     3.0  1260759182\n",
       "3       1     1129     2.0  1260759185\n",
       "4       1     1172     4.0  1260759205"
      ]
     },
     "execution_count": 8,
     "metadata": {},
     "output_type": "execute_result"
    }
   ],
   "source": [
    "rating_data.head()"
   ]
  },
  {
   "cell_type": "code",
   "execution_count": 11,
   "metadata": {},
   "outputs": [
    {
     "name": "stdout",
     "output_type": "stream",
     "text": [
      "(9125, 3)\n",
      "(100004, 4)\n"
     ]
    }
   ],
   "source": [
    "print(movie_data.shape)\n",
    "print(rating_data.shape)"
   ]
  },
  {
   "cell_type": "markdown",
   "metadata": {},
   "source": [
    "- 두개의 파일은 사용자-평점 데이터와 영화 데이터로 나뉘어져 있음\n",
    "- 이 두개의 파일은 공통적으로 movieid를가지고 있음. 즉 movieid를 이용하면 하나로 합칠 수 있음"
   ]
  },
  {
   "cell_type": "markdown",
   "metadata": {},
   "source": [
    "<h2>전처리</h2>"
   ]
  },
  {
   "cell_type": "code",
   "execution_count": 12,
   "metadata": {},
   "outputs": [
    {
     "data": {
      "text/html": [
       "<div>\n",
       "<style scoped>\n",
       "    .dataframe tbody tr th:only-of-type {\n",
       "        vertical-align: middle;\n",
       "    }\n",
       "\n",
       "    .dataframe tbody tr th {\n",
       "        vertical-align: top;\n",
       "    }\n",
       "\n",
       "    .dataframe thead th {\n",
       "        text-align: right;\n",
       "    }\n",
       "</style>\n",
       "<table border=\"1\" class=\"dataframe\">\n",
       "  <thead>\n",
       "    <tr style=\"text-align: right;\">\n",
       "      <th></th>\n",
       "      <th>userId</th>\n",
       "      <th>movieId</th>\n",
       "      <th>rating</th>\n",
       "    </tr>\n",
       "  </thead>\n",
       "  <tbody>\n",
       "    <tr>\n",
       "      <th>0</th>\n",
       "      <td>1</td>\n",
       "      <td>31</td>\n",
       "      <td>2.5</td>\n",
       "    </tr>\n",
       "    <tr>\n",
       "      <th>1</th>\n",
       "      <td>1</td>\n",
       "      <td>1029</td>\n",
       "      <td>3.0</td>\n",
       "    </tr>\n",
       "    <tr>\n",
       "      <th>2</th>\n",
       "      <td>1</td>\n",
       "      <td>1061</td>\n",
       "      <td>3.0</td>\n",
       "    </tr>\n",
       "    <tr>\n",
       "      <th>3</th>\n",
       "      <td>1</td>\n",
       "      <td>1129</td>\n",
       "      <td>2.0</td>\n",
       "    </tr>\n",
       "    <tr>\n",
       "      <th>4</th>\n",
       "      <td>1</td>\n",
       "      <td>1172</td>\n",
       "      <td>4.0</td>\n",
       "    </tr>\n",
       "  </tbody>\n",
       "</table>\n",
       "</div>"
      ],
      "text/plain": [
       "   userId  movieId  rating\n",
       "0       1       31     2.5\n",
       "1       1     1029     3.0\n",
       "2       1     1061     3.0\n",
       "3       1     1129     2.0\n",
       "4       1     1172     4.0"
      ]
     },
     "execution_count": 12,
     "metadata": {},
     "output_type": "execute_result"
    }
   ],
   "source": [
    "\n",
    "rating_data.drop('timestamp',axis=1, inplace=True)\n",
    "rating_data.head()"
   ]
  },
  {
   "cell_type": "code",
   "execution_count": 13,
   "metadata": {},
   "outputs": [
    {
     "data": {
      "text/html": [
       "<div>\n",
       "<style scoped>\n",
       "    .dataframe tbody tr th:only-of-type {\n",
       "        vertical-align: middle;\n",
       "    }\n",
       "\n",
       "    .dataframe tbody tr th {\n",
       "        vertical-align: top;\n",
       "    }\n",
       "\n",
       "    .dataframe thead th {\n",
       "        text-align: right;\n",
       "    }\n",
       "</style>\n",
       "<table border=\"1\" class=\"dataframe\">\n",
       "  <thead>\n",
       "    <tr style=\"text-align: right;\">\n",
       "      <th></th>\n",
       "      <th>movieId</th>\n",
       "      <th>title</th>\n",
       "    </tr>\n",
       "  </thead>\n",
       "  <tbody>\n",
       "    <tr>\n",
       "      <th>0</th>\n",
       "      <td>1</td>\n",
       "      <td>Toy Story (1995)</td>\n",
       "    </tr>\n",
       "    <tr>\n",
       "      <th>1</th>\n",
       "      <td>2</td>\n",
       "      <td>Jumanji (1995)</td>\n",
       "    </tr>\n",
       "    <tr>\n",
       "      <th>2</th>\n",
       "      <td>3</td>\n",
       "      <td>Grumpier Old Men (1995)</td>\n",
       "    </tr>\n",
       "    <tr>\n",
       "      <th>3</th>\n",
       "      <td>4</td>\n",
       "      <td>Waiting to Exhale (1995)</td>\n",
       "    </tr>\n",
       "    <tr>\n",
       "      <th>4</th>\n",
       "      <td>5</td>\n",
       "      <td>Father of the Bride Part II (1995)</td>\n",
       "    </tr>\n",
       "  </tbody>\n",
       "</table>\n",
       "</div>"
      ],
      "text/plain": [
       "   movieId                               title\n",
       "0        1                    Toy Story (1995)\n",
       "1        2                      Jumanji (1995)\n",
       "2        3             Grumpier Old Men (1995)\n",
       "3        4            Waiting to Exhale (1995)\n",
       "4        5  Father of the Bride Part II (1995)"
      ]
     },
     "execution_count": 13,
     "metadata": {},
     "output_type": "execute_result"
    }
   ],
   "source": [
    "\n",
    "movie_data.drop('genres',axis=1,inplace=True)\n",
    "movie_data.head()"
   ]
  },
  {
   "cell_type": "code",
   "execution_count": 14,
   "metadata": {},
   "outputs": [
    {
     "data": {
      "text/html": [
       "<div>\n",
       "<style scoped>\n",
       "    .dataframe tbody tr th:only-of-type {\n",
       "        vertical-align: middle;\n",
       "    }\n",
       "\n",
       "    .dataframe tbody tr th {\n",
       "        vertical-align: top;\n",
       "    }\n",
       "\n",
       "    .dataframe thead th {\n",
       "        text-align: right;\n",
       "    }\n",
       "</style>\n",
       "<table border=\"1\" class=\"dataframe\">\n",
       "  <thead>\n",
       "    <tr style=\"text-align: right;\">\n",
       "      <th></th>\n",
       "      <th>userId</th>\n",
       "      <th>movieId</th>\n",
       "      <th>rating</th>\n",
       "      <th>title</th>\n",
       "    </tr>\n",
       "  </thead>\n",
       "  <tbody>\n",
       "    <tr>\n",
       "      <th>0</th>\n",
       "      <td>1</td>\n",
       "      <td>31</td>\n",
       "      <td>2.5</td>\n",
       "      <td>Dangerous Minds (1995)</td>\n",
       "    </tr>\n",
       "    <tr>\n",
       "      <th>1</th>\n",
       "      <td>1</td>\n",
       "      <td>1029</td>\n",
       "      <td>3.0</td>\n",
       "      <td>Dumbo (1941)</td>\n",
       "    </tr>\n",
       "    <tr>\n",
       "      <th>2</th>\n",
       "      <td>1</td>\n",
       "      <td>1061</td>\n",
       "      <td>3.0</td>\n",
       "      <td>Sleepers (1996)</td>\n",
       "    </tr>\n",
       "    <tr>\n",
       "      <th>3</th>\n",
       "      <td>1</td>\n",
       "      <td>1129</td>\n",
       "      <td>2.0</td>\n",
       "      <td>Escape from New York (1981)</td>\n",
       "    </tr>\n",
       "    <tr>\n",
       "      <th>4</th>\n",
       "      <td>1</td>\n",
       "      <td>1172</td>\n",
       "      <td>4.0</td>\n",
       "      <td>Cinema Paradiso (Nuovo cinema Paradiso) (1989)</td>\n",
       "    </tr>\n",
       "  </tbody>\n",
       "</table>\n",
       "</div>"
      ],
      "text/plain": [
       "   userId  movieId  rating                                           title\n",
       "0       1       31     2.5                          Dangerous Minds (1995)\n",
       "1       1     1029     3.0                                    Dumbo (1941)\n",
       "2       1     1061     3.0                                 Sleepers (1996)\n",
       "3       1     1129     2.0                     Escape from New York (1981)\n",
       "4       1     1172     4.0  Cinema Paradiso (Nuovo cinema Paradiso) (1989)"
      ]
     },
     "execution_count": 14,
     "metadata": {},
     "output_type": "execute_result"
    }
   ],
   "source": [
    "\n",
    "user_movie_data = pd.merge(rating_data, movie_data, on = 'movieId')\n",
    "user_movie_data.head()"
   ]
  },
  {
   "cell_type": "code",
   "execution_count": 15,
   "metadata": {},
   "outputs": [
    {
     "data": {
      "text/plain": [
       "(100004, 4)"
      ]
     },
     "execution_count": 15,
     "metadata": {},
     "output_type": "execute_result"
    }
   ],
   "source": [
    "user_movie_data.shape"
   ]
  },
  {
   "cell_type": "markdown",
   "metadata": {},
   "source": [
    "불필요한 칼럼을 제거 -> pandas의 merge를 이용하여 하나로 합침\n",
    "이제, pivot_table를 만들어줌"
   ]
  },
  {
   "cell_type": "markdown",
   "metadata": {},
   "source": [
    "- value : rating\n",
    "- column : movie title\n",
    "- index : user id"
   ]
  },
  {
   "cell_type": "code",
   "execution_count": 17,
   "metadata": {},
   "outputs": [],
   "source": [
    "\n",
    "user_movie_rating = user_movie_data.pivot_table('rating',index='userId',columns='title').fillna(0)"
   ]
  },
  {
   "cell_type": "code",
   "execution_count": 18,
   "metadata": {},
   "outputs": [
    {
     "data": {
      "text/plain": [
       "(671, 9064)"
      ]
     },
     "execution_count": 18,
     "metadata": {},
     "output_type": "execute_result"
    }
   ],
   "source": [
    "user_movie_rating.shape"
   ]
  },
  {
   "cell_type": "code",
   "execution_count": 19,
   "metadata": {},
   "outputs": [
    {
     "data": {
      "text/html": [
       "<div>\n",
       "<style scoped>\n",
       "    .dataframe tbody tr th:only-of-type {\n",
       "        vertical-align: middle;\n",
       "    }\n",
       "\n",
       "    .dataframe tbody tr th {\n",
       "        vertical-align: top;\n",
       "    }\n",
       "\n",
       "    .dataframe thead th {\n",
       "        text-align: right;\n",
       "    }\n",
       "</style>\n",
       "<table border=\"1\" class=\"dataframe\">\n",
       "  <thead>\n",
       "    <tr style=\"text-align: right;\">\n",
       "      <th>title</th>\n",
       "      <th>\"Great Performances\" Cats (1998)</th>\n",
       "      <th>$9.99 (2008)</th>\n",
       "      <th>'Hellboy': The Seeds of Creation (2004)</th>\n",
       "      <th>'Neath the Arizona Skies (1934)</th>\n",
       "      <th>'Round Midnight (1986)</th>\n",
       "      <th>'Salem's Lot (2004)</th>\n",
       "      <th>'Til There Was You (1997)</th>\n",
       "      <th>'burbs, The (1989)</th>\n",
       "      <th>'night Mother (1986)</th>\n",
       "      <th>(500) Days of Summer (2009)</th>\n",
       "      <th>...</th>\n",
       "      <th>Zulu (1964)</th>\n",
       "      <th>Zulu (2013)</th>\n",
       "      <th>[REC] (2007)</th>\n",
       "      <th>eXistenZ (1999)</th>\n",
       "      <th>loudQUIETloud: A Film About the Pixies (2006)</th>\n",
       "      <th>xXx (2002)</th>\n",
       "      <th>xXx: State of the Union (2005)</th>\n",
       "      <th>¡Three Amigos! (1986)</th>\n",
       "      <th>À nous la liberté (Freedom for Us) (1931)</th>\n",
       "      <th>İtirazım Var (2014)</th>\n",
       "    </tr>\n",
       "    <tr>\n",
       "      <th>userId</th>\n",
       "      <th></th>\n",
       "      <th></th>\n",
       "      <th></th>\n",
       "      <th></th>\n",
       "      <th></th>\n",
       "      <th></th>\n",
       "      <th></th>\n",
       "      <th></th>\n",
       "      <th></th>\n",
       "      <th></th>\n",
       "      <th></th>\n",
       "      <th></th>\n",
       "      <th></th>\n",
       "      <th></th>\n",
       "      <th></th>\n",
       "      <th></th>\n",
       "      <th></th>\n",
       "      <th></th>\n",
       "      <th></th>\n",
       "      <th></th>\n",
       "      <th></th>\n",
       "    </tr>\n",
       "  </thead>\n",
       "  <tbody>\n",
       "    <tr>\n",
       "      <th>1</th>\n",
       "      <td>0.0</td>\n",
       "      <td>0.0</td>\n",
       "      <td>0.0</td>\n",
       "      <td>0.0</td>\n",
       "      <td>0.0</td>\n",
       "      <td>0.0</td>\n",
       "      <td>0.0</td>\n",
       "      <td>0.0</td>\n",
       "      <td>0.0</td>\n",
       "      <td>0.0</td>\n",
       "      <td>...</td>\n",
       "      <td>0.0</td>\n",
       "      <td>0.0</td>\n",
       "      <td>0.0</td>\n",
       "      <td>0.0</td>\n",
       "      <td>0.0</td>\n",
       "      <td>0.0</td>\n",
       "      <td>0.0</td>\n",
       "      <td>0.0</td>\n",
       "      <td>0.0</td>\n",
       "      <td>0.0</td>\n",
       "    </tr>\n",
       "    <tr>\n",
       "      <th>2</th>\n",
       "      <td>0.0</td>\n",
       "      <td>0.0</td>\n",
       "      <td>0.0</td>\n",
       "      <td>0.0</td>\n",
       "      <td>0.0</td>\n",
       "      <td>0.0</td>\n",
       "      <td>0.0</td>\n",
       "      <td>0.0</td>\n",
       "      <td>0.0</td>\n",
       "      <td>0.0</td>\n",
       "      <td>...</td>\n",
       "      <td>0.0</td>\n",
       "      <td>0.0</td>\n",
       "      <td>0.0</td>\n",
       "      <td>0.0</td>\n",
       "      <td>0.0</td>\n",
       "      <td>0.0</td>\n",
       "      <td>0.0</td>\n",
       "      <td>0.0</td>\n",
       "      <td>0.0</td>\n",
       "      <td>0.0</td>\n",
       "    </tr>\n",
       "    <tr>\n",
       "      <th>3</th>\n",
       "      <td>0.0</td>\n",
       "      <td>0.0</td>\n",
       "      <td>0.0</td>\n",
       "      <td>0.0</td>\n",
       "      <td>0.0</td>\n",
       "      <td>0.0</td>\n",
       "      <td>0.0</td>\n",
       "      <td>0.0</td>\n",
       "      <td>0.0</td>\n",
       "      <td>0.0</td>\n",
       "      <td>...</td>\n",
       "      <td>0.0</td>\n",
       "      <td>0.0</td>\n",
       "      <td>0.0</td>\n",
       "      <td>0.0</td>\n",
       "      <td>0.0</td>\n",
       "      <td>0.0</td>\n",
       "      <td>0.0</td>\n",
       "      <td>0.0</td>\n",
       "      <td>0.0</td>\n",
       "      <td>0.0</td>\n",
       "    </tr>\n",
       "    <tr>\n",
       "      <th>4</th>\n",
       "      <td>0.0</td>\n",
       "      <td>0.0</td>\n",
       "      <td>0.0</td>\n",
       "      <td>0.0</td>\n",
       "      <td>0.0</td>\n",
       "      <td>0.0</td>\n",
       "      <td>0.0</td>\n",
       "      <td>0.0</td>\n",
       "      <td>0.0</td>\n",
       "      <td>0.0</td>\n",
       "      <td>...</td>\n",
       "      <td>0.0</td>\n",
       "      <td>0.0</td>\n",
       "      <td>0.0</td>\n",
       "      <td>0.0</td>\n",
       "      <td>0.0</td>\n",
       "      <td>0.0</td>\n",
       "      <td>0.0</td>\n",
       "      <td>0.0</td>\n",
       "      <td>0.0</td>\n",
       "      <td>0.0</td>\n",
       "    </tr>\n",
       "    <tr>\n",
       "      <th>5</th>\n",
       "      <td>0.0</td>\n",
       "      <td>0.0</td>\n",
       "      <td>0.0</td>\n",
       "      <td>0.0</td>\n",
       "      <td>0.0</td>\n",
       "      <td>0.0</td>\n",
       "      <td>0.0</td>\n",
       "      <td>0.0</td>\n",
       "      <td>0.0</td>\n",
       "      <td>0.0</td>\n",
       "      <td>...</td>\n",
       "      <td>0.0</td>\n",
       "      <td>0.0</td>\n",
       "      <td>0.0</td>\n",
       "      <td>0.0</td>\n",
       "      <td>0.0</td>\n",
       "      <td>0.0</td>\n",
       "      <td>0.0</td>\n",
       "      <td>0.0</td>\n",
       "      <td>0.0</td>\n",
       "      <td>0.0</td>\n",
       "    </tr>\n",
       "  </tbody>\n",
       "</table>\n",
       "<p>5 rows × 9064 columns</p>\n",
       "</div>"
      ],
      "text/plain": [
       "title   \"Great Performances\" Cats (1998)  $9.99 (2008)  \\\n",
       "userId                                                   \n",
       "1                                    0.0           0.0   \n",
       "2                                    0.0           0.0   \n",
       "3                                    0.0           0.0   \n",
       "4                                    0.0           0.0   \n",
       "5                                    0.0           0.0   \n",
       "\n",
       "title   'Hellboy': The Seeds of Creation (2004)  \\\n",
       "userId                                            \n",
       "1                                           0.0   \n",
       "2                                           0.0   \n",
       "3                                           0.0   \n",
       "4                                           0.0   \n",
       "5                                           0.0   \n",
       "\n",
       "title   'Neath the Arizona Skies (1934)  'Round Midnight (1986)  \\\n",
       "userId                                                            \n",
       "1                                   0.0                     0.0   \n",
       "2                                   0.0                     0.0   \n",
       "3                                   0.0                     0.0   \n",
       "4                                   0.0                     0.0   \n",
       "5                                   0.0                     0.0   \n",
       "\n",
       "title   'Salem's Lot (2004)  'Til There Was You (1997)  'burbs, The (1989)  \\\n",
       "userId                                                                       \n",
       "1                       0.0                        0.0                 0.0   \n",
       "2                       0.0                        0.0                 0.0   \n",
       "3                       0.0                        0.0                 0.0   \n",
       "4                       0.0                        0.0                 0.0   \n",
       "5                       0.0                        0.0                 0.0   \n",
       "\n",
       "title   'night Mother (1986)  (500) Days of Summer (2009)  ...  Zulu (1964)  \\\n",
       "userId                                                     ...                \n",
       "1                        0.0                          0.0  ...          0.0   \n",
       "2                        0.0                          0.0  ...          0.0   \n",
       "3                        0.0                          0.0  ...          0.0   \n",
       "4                        0.0                          0.0  ...          0.0   \n",
       "5                        0.0                          0.0  ...          0.0   \n",
       "\n",
       "title   Zulu (2013)  [REC] (2007)  eXistenZ (1999)  \\\n",
       "userId                                               \n",
       "1               0.0           0.0              0.0   \n",
       "2               0.0           0.0              0.0   \n",
       "3               0.0           0.0              0.0   \n",
       "4               0.0           0.0              0.0   \n",
       "5               0.0           0.0              0.0   \n",
       "\n",
       "title   loudQUIETloud: A Film About the Pixies (2006)  xXx (2002)  \\\n",
       "userId                                                              \n",
       "1                                                 0.0         0.0   \n",
       "2                                                 0.0         0.0   \n",
       "3                                                 0.0         0.0   \n",
       "4                                                 0.0         0.0   \n",
       "5                                                 0.0         0.0   \n",
       "\n",
       "title   xXx: State of the Union (2005)  ¡Three Amigos! (1986)  \\\n",
       "userId                                                          \n",
       "1                                  0.0                    0.0   \n",
       "2                                  0.0                    0.0   \n",
       "3                                  0.0                    0.0   \n",
       "4                                  0.0                    0.0   \n",
       "5                                  0.0                    0.0   \n",
       "\n",
       "title   À nous la liberté (Freedom for Us) (1931)  İtirazım Var (2014)  \n",
       "userId                                                                  \n",
       "1                                             0.0                  0.0  \n",
       "2                                             0.0                  0.0  \n",
       "3                                             0.0                  0.0  \n",
       "4                                             0.0                  0.0  \n",
       "5                                             0.0                  0.0  \n",
       "\n",
       "[5 rows x 9064 columns]"
      ]
     },
     "execution_count": 19,
     "metadata": {},
     "output_type": "execute_result"
    }
   ],
   "source": [
    "user_movie_rating.head()"
   ]
  },
  {
   "cell_type": "markdown",
   "metadata": {},
   "source": [
    "사용자-영화 기준의 데이터를 영화-사용자 기준으로 만들어서 특정 '영화'와 비슷한 영화를 추천해주는 로직을 구현"
   ]
  },
  {
   "cell_type": "code",
   "execution_count": 20,
   "metadata": {},
   "outputs": [
    {
     "data": {
      "text/plain": [
       "(9064, 671)"
      ]
     },
     "execution_count": 20,
     "metadata": {},
     "output_type": "execute_result"
    }
   ],
   "source": [
    "movie_user_rating = user_movie_rating.values.T\n",
    "movie_user_rating.shape"
   ]
  },
  {
   "cell_type": "code",
   "execution_count": 21,
   "metadata": {},
   "outputs": [
    {
     "data": {
      "text/plain": [
       "array([[0., 0., 0., ..., 0., 0., 0.],\n",
       "       [0., 0., 0., ..., 0., 0., 0.],\n",
       "       [0., 0., 0., ..., 0., 0., 0.],\n",
       "       ...,\n",
       "       [0., 0., 0., ..., 0., 0., 0.],\n",
       "       [0., 0., 0., ..., 0., 0., 0.],\n",
       "       [0., 0., 0., ..., 0., 0., 0.]])"
      ]
     },
     "execution_count": 21,
     "metadata": {},
     "output_type": "execute_result"
    }
   ],
   "source": [
    "movie_user_rating"
   ]
  },
  {
   "cell_type": "code",
   "execution_count": 22,
   "metadata": {},
   "outputs": [
    {
     "data": {
      "text/plain": [
       "numpy.ndarray"
      ]
     },
     "execution_count": 22,
     "metadata": {},
     "output_type": "execute_result"
    }
   ],
   "source": [
    "type(movie_user_rating)"
   ]
  },
  {
   "attachments": {
    "image.png": {
     "image/png": "[encoded data removed]"
    }
   },
   "cell_type": "markdown",
   "metadata": {},
   "source": [
    "1. svd를 사용\n",
    "- svd(singular value decomposion),특이값 분해 : m x n 크기의 데이터 행렬 A를 아래와 같이 분해하는 것\n",
    "![image.png](attachment:image.png)\n",
    "- 출처 : https://m.blog.naver.com/kiakass/222200041769"
   ]
  },
  {
   "cell_type": "markdown",
   "metadata": {},
   "source": [
    "### 설명\n",
    "\n",
    "1. 행렬 U와 V에 속한 열벡터는 특이벡터(singular vector)로 불리며, 이 특이벡터들은 서로 직교하는 성질을 가지고 있음\n",
    "2. 가운데 Σ 기호로 보이는 것은 행렬임\n",
    "    - 이 행렬은 대각행렬의 성질을 가지고 있음.\n",
    "    - 대각 성분이 행렬 A의 특이값이고, 나머지 성분은 0.\n"
   ]
  },
  {
   "cell_type": "markdown",
   "metadata": {},
   "source": [
    "### 그래서 SVD를 적용하는 이유는 무엇일까?\n",
    "1. 차원 축소 :\n",
    "    - 원래 평점 행렬은 매우 커질 수 있고, 많은 값들이 비어져 있음 (평점을 주지 않은 영화가 많기 때문)\n",
    "    - SVD를 적용하면 \"데이터를 작은 잠재 요인\"으로 압축해준다. \n",
    "    - 이때 중요한 정보를 유지하면서도 불필요한 잡음을 줄일 수 있음\n",
    "    - 영화에 대한 100개의 질문을 모두 하지 않고도, 그 영화의 액션성이나 감정성 같은 몇가지 중요한 특성만으로도 평점 예측이 가능해짐\n",
    "2. 사용자와 아이템 간의 숨겨진 관계를 찾기 위해 : \n",
    "    - SVD는 사용자와 아이템 간의 잠재적인 관계를 찾는다."
   ]
  },
  {
   "cell_type": "code",
   "execution_count": 25,
   "metadata": {},
   "outputs": [],
   "source": [
    "#scikit learn의 Truncated SVD를 사용\n",
    "SVD = TruncatedSVD(n_components=12)\n"
   ]
  },
  {
   "cell_type": "markdown",
   "metadata": {},
   "source": [
    "여기서 왜 n_componets = 12를 사용할까?"
   ]
  },
  {
   "cell_type": "code",
   "execution_count": 26,
   "metadata": {},
   "outputs": [
    {
     "data": {
      "text/plain": [
       "(9064, 12)"
      ]
     },
     "execution_count": 26,
     "metadata": {},
     "output_type": "execute_result"
    }
   ],
   "source": [
    "matrix = SVD.fit_transform(movie_user_rating)\n",
    "matrix.shape"
   ]
  },
  {
   "cell_type": "code",
   "execution_count": 28,
   "metadata": {},
   "outputs": [
    {
     "data": {
      "text/plain": [
       "array([ 0.01227491, -0.00250751, -0.01554761,  0.03398028,  0.0144199 ,\n",
       "       -0.00365537,  0.00223093,  0.04487183, -0.01642797, -0.02203545,\n",
       "       -0.00876574,  0.01090078])"
      ]
     },
     "execution_count": 28,
     "metadata": {},
     "output_type": "execute_result"
    }
   ],
   "source": [
    "matrix[0]"
   ]
  },
  {
   "cell_type": "markdown",
   "metadata": {},
   "source": [
    "이렇게 나온 데이터를 활용하여 피어슨 상관계수를 구한다"
   ]
  },
  {
   "cell_type": "code",
   "execution_count": 29,
   "metadata": {},
   "outputs": [
    {
     "data": {
      "text/plain": [
       "(9064, 9064)"
      ]
     },
     "execution_count": 29,
     "metadata": {},
     "output_type": "execute_result"
    }
   ],
   "source": [
    "corr = np.corrcoef(matrix)\n",
    "corr.shape"
   ]
  },
  {
   "cell_type": "code",
   "execution_count": 30,
   "metadata": {},
   "outputs": [
    {
     "data": {
      "text/plain": [
       "(200, 200)"
      ]
     },
     "execution_count": 30,
     "metadata": {},
     "output_type": "execute_result"
    }
   ],
   "source": [
    "corr2 = corr[:200,:200]\n",
    "corr2.shape"
   ]
  },
  {
   "cell_type": "code",
   "execution_count": 31,
   "metadata": {},
   "outputs": [
    {
     "data": {
      "text/plain": [
       "<Axes: >"
      ]
     },
     "execution_count": 31,
     "metadata": {},
     "output_type": "execute_result"
    },
    {
     "data": {
      "image/png": "[encoded data removed]",
      "text/plain": [
       "<Figure size 1600x1000 with 2 Axes>"
      ]
     },
     "metadata": {},
     "output_type": "display_data"
    }
   ],
   "source": [
    "plt.figure(figsize=(16,10))\n",
    "sns.heatmap(corr2)"
   ]
  },
  {
   "cell_type": "markdown",
   "metadata": {},
   "source": [
    "상관계수를 이용하여 특정 영화와 상관계수가 높은 영화를 뽑아줌"
   ]
  },
  {
   "cell_type": "code",
   "execution_count": 37,
   "metadata": {},
   "outputs": [],
   "source": [
    "movie_title = user_movie_rating.columns\n",
    "movie_title_list = list(movie_title)\n",
    "coffey_hands = movie_title_list.index(\"Dangerous Minds (1995)\")"
   ]
  },
  {
   "cell_type": "code",
   "execution_count": 38,
   "metadata": {},
   "outputs": [],
   "source": [
    "corr_coffey_hands = corr[coffey_hands]"
   ]
  },
  {
   "cell_type": "code",
   "execution_count": 39,
   "metadata": {},
   "outputs": [
    {
     "data": {
      "text/plain": [
       "['Clear and Present Danger (1994)',\n",
       " 'Cliffhanger (1993)',\n",
       " 'Crimson Tide (1995)',\n",
       " 'Dances with Wolves (1990)',\n",
       " 'Dangerous Minds (1995)',\n",
       " 'Die Hard: With a Vengeance (1995)',\n",
       " 'Firm, The (1993)',\n",
       " 'First Knight (1995)',\n",
       " 'Legends of the Fall (1994)',\n",
       " 'Net, The (1995)',\n",
       " 'Outbreak (1995)',\n",
       " 'Philadelphia (1993)',\n",
       " 'Pretty Woman (1990)',\n",
       " 'Specialist, The (1994)',\n",
       " 'Speed (1994)',\n",
       " 'Tombstone (1993)',\n",
       " 'Under Siege 2: Dark Territory (1995)',\n",
       " 'Waterworld (1995)']"
      ]
     },
     "execution_count": 39,
     "metadata": {},
     "output_type": "execute_result"
    }
   ],
   "source": [
    "list(movie_title[(corr_coffey_hands >= 0.9)])[:50]"
   ]
  },
  {
   "cell_type": "markdown",
   "metadata": {},
   "source": [
    "Dangerous Minds (1995) 영화를 기준으로 비슷한 영화 출력"
   ]
  },
  {
   "cell_type": "markdown",
   "metadata": {},
   "source": [
    "## 한 사용자에게 개인 추천"
   ]
  },
  {
   "cell_type": "markdown",
   "metadata": {},
   "source": [
    "- 위 코드는 하나의 영화에 대해서 비슷한 영화를 추천해주는 것을 적용\n",
    "- 보통 추천 시스템은 사용자에게 추천을 해주어야 된다."
   ]
  },
  {
   "cell_type": "markdown",
   "metadata": {},
   "source": [
    "사용자에게 추천을 해주기 위해서 사용자 맞춤 협업 필터링 행렬 분해를 적용"
   ]
  },
  {
   "cell_type": "code",
   "execution_count": 40,
   "metadata": {},
   "outputs": [],
   "source": [
    "df_ratings = pd.read_csv('./data/ratings.csv')\n",
    "df_movies = pd.read_csv('./data/movies.csv')"
   ]
  },
  {
   "cell_type": "code",
   "execution_count": 41,
   "metadata": {},
   "outputs": [],
   "source": [
    "df_user_movie_ratings = df_ratings.pivot(\n",
    "    index='userId',\n",
    "    columns='movieId',\n",
    "    values='rating'\n",
    ").fillna(0)"
   ]
  },
  {
   "cell_type": "code",
   "execution_count": 42,
   "metadata": {},
   "outputs": [
    {
     "data": {
      "text/html": [
       "<div>\n",
       "<style scoped>\n",
       "    .dataframe tbody tr th:only-of-type {\n",
       "        vertical-align: middle;\n",
       "    }\n",
       "\n",
       "    .dataframe tbody tr th {\n",
       "        vertical-align: top;\n",
       "    }\n",
       "\n",
       "    .dataframe thead th {\n",
       "        text-align: right;\n",
       "    }\n",
       "</style>\n",
       "<table border=\"1\" class=\"dataframe\">\n",
       "  <thead>\n",
       "    <tr style=\"text-align: right;\">\n",
       "      <th>movieId</th>\n",
       "      <th>1</th>\n",
       "      <th>2</th>\n",
       "      <th>3</th>\n",
       "      <th>4</th>\n",
       "      <th>5</th>\n",
       "      <th>6</th>\n",
       "      <th>7</th>\n",
       "      <th>8</th>\n",
       "      <th>9</th>\n",
       "      <th>10</th>\n",
       "      <th>...</th>\n",
       "      <th>161084</th>\n",
       "      <th>161155</th>\n",
       "      <th>161594</th>\n",
       "      <th>161830</th>\n",
       "      <th>161918</th>\n",
       "      <th>161944</th>\n",
       "      <th>162376</th>\n",
       "      <th>162542</th>\n",
       "      <th>162672</th>\n",
       "      <th>163949</th>\n",
       "    </tr>\n",
       "    <tr>\n",
       "      <th>userId</th>\n",
       "      <th></th>\n",
       "      <th></th>\n",
       "      <th></th>\n",
       "      <th></th>\n",
       "      <th></th>\n",
       "      <th></th>\n",
       "      <th></th>\n",
       "      <th></th>\n",
       "      <th></th>\n",
       "      <th></th>\n",
       "      <th></th>\n",
       "      <th></th>\n",
       "      <th></th>\n",
       "      <th></th>\n",
       "      <th></th>\n",
       "      <th></th>\n",
       "      <th></th>\n",
       "      <th></th>\n",
       "      <th></th>\n",
       "      <th></th>\n",
       "      <th></th>\n",
       "    </tr>\n",
       "  </thead>\n",
       "  <tbody>\n",
       "    <tr>\n",
       "      <th>1</th>\n",
       "      <td>0.0</td>\n",
       "      <td>0.0</td>\n",
       "      <td>0.0</td>\n",
       "      <td>0.0</td>\n",
       "      <td>0.0</td>\n",
       "      <td>0.0</td>\n",
       "      <td>0.0</td>\n",
       "      <td>0.0</td>\n",
       "      <td>0.0</td>\n",
       "      <td>0.0</td>\n",
       "      <td>...</td>\n",
       "      <td>0.0</td>\n",
       "      <td>0.0</td>\n",
       "      <td>0.0</td>\n",
       "      <td>0.0</td>\n",
       "      <td>0.0</td>\n",
       "      <td>0.0</td>\n",
       "      <td>0.0</td>\n",
       "      <td>0.0</td>\n",
       "      <td>0.0</td>\n",
       "      <td>0.0</td>\n",
       "    </tr>\n",
       "    <tr>\n",
       "      <th>2</th>\n",
       "      <td>0.0</td>\n",
       "      <td>0.0</td>\n",
       "      <td>0.0</td>\n",
       "      <td>0.0</td>\n",
       "      <td>0.0</td>\n",
       "      <td>0.0</td>\n",
       "      <td>0.0</td>\n",
       "      <td>0.0</td>\n",
       "      <td>0.0</td>\n",
       "      <td>4.0</td>\n",
       "      <td>...</td>\n",
       "      <td>0.0</td>\n",
       "      <td>0.0</td>\n",
       "      <td>0.0</td>\n",
       "      <td>0.0</td>\n",
       "      <td>0.0</td>\n",
       "      <td>0.0</td>\n",
       "      <td>0.0</td>\n",
       "      <td>0.0</td>\n",
       "      <td>0.0</td>\n",
       "      <td>0.0</td>\n",
       "    </tr>\n",
       "    <tr>\n",
       "      <th>3</th>\n",
       "      <td>0.0</td>\n",
       "      <td>0.0</td>\n",
       "      <td>0.0</td>\n",
       "      <td>0.0</td>\n",
       "      <td>0.0</td>\n",
       "      <td>0.0</td>\n",
       "      <td>0.0</td>\n",
       "      <td>0.0</td>\n",
       "      <td>0.0</td>\n",
       "      <td>0.0</td>\n",
       "      <td>...</td>\n",
       "      <td>0.0</td>\n",
       "      <td>0.0</td>\n",
       "      <td>0.0</td>\n",
       "      <td>0.0</td>\n",
       "      <td>0.0</td>\n",
       "      <td>0.0</td>\n",
       "      <td>0.0</td>\n",
       "      <td>0.0</td>\n",
       "      <td>0.0</td>\n",
       "      <td>0.0</td>\n",
       "    </tr>\n",
       "    <tr>\n",
       "      <th>4</th>\n",
       "      <td>0.0</td>\n",
       "      <td>0.0</td>\n",
       "      <td>0.0</td>\n",
       "      <td>0.0</td>\n",
       "      <td>0.0</td>\n",
       "      <td>0.0</td>\n",
       "      <td>0.0</td>\n",
       "      <td>0.0</td>\n",
       "      <td>0.0</td>\n",
       "      <td>4.0</td>\n",
       "      <td>...</td>\n",
       "      <td>0.0</td>\n",
       "      <td>0.0</td>\n",
       "      <td>0.0</td>\n",
       "      <td>0.0</td>\n",
       "      <td>0.0</td>\n",
       "      <td>0.0</td>\n",
       "      <td>0.0</td>\n",
       "      <td>0.0</td>\n",
       "      <td>0.0</td>\n",
       "      <td>0.0</td>\n",
       "    </tr>\n",
       "    <tr>\n",
       "      <th>5</th>\n",
       "      <td>0.0</td>\n",
       "      <td>0.0</td>\n",
       "      <td>4.0</td>\n",
       "      <td>0.0</td>\n",
       "      <td>0.0</td>\n",
       "      <td>0.0</td>\n",
       "      <td>0.0</td>\n",
       "      <td>0.0</td>\n",
       "      <td>0.0</td>\n",
       "      <td>0.0</td>\n",
       "      <td>...</td>\n",
       "      <td>0.0</td>\n",
       "      <td>0.0</td>\n",
       "      <td>0.0</td>\n",
       "      <td>0.0</td>\n",
       "      <td>0.0</td>\n",
       "      <td>0.0</td>\n",
       "      <td>0.0</td>\n",
       "      <td>0.0</td>\n",
       "      <td>0.0</td>\n",
       "      <td>0.0</td>\n",
       "    </tr>\n",
       "    <tr>\n",
       "      <th>...</th>\n",
       "      <td>...</td>\n",
       "      <td>...</td>\n",
       "      <td>...</td>\n",
       "      <td>...</td>\n",
       "      <td>...</td>\n",
       "      <td>...</td>\n",
       "      <td>...</td>\n",
       "      <td>...</td>\n",
       "      <td>...</td>\n",
       "      <td>...</td>\n",
       "      <td>...</td>\n",
       "      <td>...</td>\n",
       "      <td>...</td>\n",
       "      <td>...</td>\n",
       "      <td>...</td>\n",
       "      <td>...</td>\n",
       "      <td>...</td>\n",
       "      <td>...</td>\n",
       "      <td>...</td>\n",
       "      <td>...</td>\n",
       "      <td>...</td>\n",
       "    </tr>\n",
       "    <tr>\n",
       "      <th>667</th>\n",
       "      <td>0.0</td>\n",
       "      <td>0.0</td>\n",
       "      <td>0.0</td>\n",
       "      <td>0.0</td>\n",
       "      <td>0.0</td>\n",
       "      <td>4.0</td>\n",
       "      <td>0.0</td>\n",
       "      <td>0.0</td>\n",
       "      <td>0.0</td>\n",
       "      <td>0.0</td>\n",
       "      <td>...</td>\n",
       "      <td>0.0</td>\n",
       "      <td>0.0</td>\n",
       "      <td>0.0</td>\n",
       "      <td>0.0</td>\n",
       "      <td>0.0</td>\n",
       "      <td>0.0</td>\n",
       "      <td>0.0</td>\n",
       "      <td>0.0</td>\n",
       "      <td>0.0</td>\n",
       "      <td>0.0</td>\n",
       "    </tr>\n",
       "    <tr>\n",
       "      <th>668</th>\n",
       "      <td>0.0</td>\n",
       "      <td>0.0</td>\n",
       "      <td>0.0</td>\n",
       "      <td>0.0</td>\n",
       "      <td>0.0</td>\n",
       "      <td>0.0</td>\n",
       "      <td>0.0</td>\n",
       "      <td>0.0</td>\n",
       "      <td>0.0</td>\n",
       "      <td>0.0</td>\n",
       "      <td>...</td>\n",
       "      <td>0.0</td>\n",
       "      <td>0.0</td>\n",
       "      <td>0.0</td>\n",
       "      <td>0.0</td>\n",
       "      <td>0.0</td>\n",
       "      <td>0.0</td>\n",
       "      <td>0.0</td>\n",
       "      <td>0.0</td>\n",
       "      <td>0.0</td>\n",
       "      <td>0.0</td>\n",
       "    </tr>\n",
       "    <tr>\n",
       "      <th>669</th>\n",
       "      <td>0.0</td>\n",
       "      <td>0.0</td>\n",
       "      <td>0.0</td>\n",
       "      <td>0.0</td>\n",
       "      <td>0.0</td>\n",
       "      <td>0.0</td>\n",
       "      <td>0.0</td>\n",
       "      <td>0.0</td>\n",
       "      <td>0.0</td>\n",
       "      <td>0.0</td>\n",
       "      <td>...</td>\n",
       "      <td>0.0</td>\n",
       "      <td>0.0</td>\n",
       "      <td>0.0</td>\n",
       "      <td>0.0</td>\n",
       "      <td>0.0</td>\n",
       "      <td>0.0</td>\n",
       "      <td>0.0</td>\n",
       "      <td>0.0</td>\n",
       "      <td>0.0</td>\n",
       "      <td>0.0</td>\n",
       "    </tr>\n",
       "    <tr>\n",
       "      <th>670</th>\n",
       "      <td>4.0</td>\n",
       "      <td>0.0</td>\n",
       "      <td>0.0</td>\n",
       "      <td>0.0</td>\n",
       "      <td>0.0</td>\n",
       "      <td>0.0</td>\n",
       "      <td>0.0</td>\n",
       "      <td>0.0</td>\n",
       "      <td>0.0</td>\n",
       "      <td>0.0</td>\n",
       "      <td>...</td>\n",
       "      <td>0.0</td>\n",
       "      <td>0.0</td>\n",
       "      <td>0.0</td>\n",
       "      <td>0.0</td>\n",
       "      <td>0.0</td>\n",
       "      <td>0.0</td>\n",
       "      <td>0.0</td>\n",
       "      <td>0.0</td>\n",
       "      <td>0.0</td>\n",
       "      <td>0.0</td>\n",
       "    </tr>\n",
       "    <tr>\n",
       "      <th>671</th>\n",
       "      <td>5.0</td>\n",
       "      <td>0.0</td>\n",
       "      <td>0.0</td>\n",
       "      <td>0.0</td>\n",
       "      <td>0.0</td>\n",
       "      <td>0.0</td>\n",
       "      <td>0.0</td>\n",
       "      <td>0.0</td>\n",
       "      <td>0.0</td>\n",
       "      <td>0.0</td>\n",
       "      <td>...</td>\n",
       "      <td>0.0</td>\n",
       "      <td>0.0</td>\n",
       "      <td>0.0</td>\n",
       "      <td>0.0</td>\n",
       "      <td>0.0</td>\n",
       "      <td>0.0</td>\n",
       "      <td>0.0</td>\n",
       "      <td>0.0</td>\n",
       "      <td>0.0</td>\n",
       "      <td>0.0</td>\n",
       "    </tr>\n",
       "  </tbody>\n",
       "</table>\n",
       "<p>671 rows × 9066 columns</p>\n",
       "</div>"
      ],
      "text/plain": [
       "movieId  1       2       3       4       5       6       7       8       \\\n",
       "userId                                                                    \n",
       "1           0.0     0.0     0.0     0.0     0.0     0.0     0.0     0.0   \n",
       "2           0.0     0.0     0.0     0.0     0.0     0.0     0.0     0.0   \n",
       "3           0.0     0.0     0.0     0.0     0.0     0.0     0.0     0.0   \n",
       "4           0.0     0.0     0.0     0.0     0.0     0.0     0.0     0.0   \n",
       "5           0.0     0.0     4.0     0.0     0.0     0.0     0.0     0.0   \n",
       "...         ...     ...     ...     ...     ...     ...     ...     ...   \n",
       "667         0.0     0.0     0.0     0.0     0.0     4.0     0.0     0.0   \n",
       "668         0.0     0.0     0.0     0.0     0.0     0.0     0.0     0.0   \n",
       "669         0.0     0.0     0.0     0.0     0.0     0.0     0.0     0.0   \n",
       "670         4.0     0.0     0.0     0.0     0.0     0.0     0.0     0.0   \n",
       "671         5.0     0.0     0.0     0.0     0.0     0.0     0.0     0.0   \n",
       "\n",
       "movieId  9       10      ...  161084  161155  161594  161830  161918  161944  \\\n",
       "userId                   ...                                                   \n",
       "1           0.0     0.0  ...     0.0     0.0     0.0     0.0     0.0     0.0   \n",
       "2           0.0     4.0  ...     0.0     0.0     0.0     0.0     0.0     0.0   \n",
       "3           0.0     0.0  ...     0.0     0.0     0.0     0.0     0.0     0.0   \n",
       "4           0.0     4.0  ...     0.0     0.0     0.0     0.0     0.0     0.0   \n",
       "5           0.0     0.0  ...     0.0     0.0     0.0     0.0     0.0     0.0   \n",
       "...         ...     ...  ...     ...     ...     ...     ...     ...     ...   \n",
       "667         0.0     0.0  ...     0.0     0.0     0.0     0.0     0.0     0.0   \n",
       "668         0.0     0.0  ...     0.0     0.0     0.0     0.0     0.0     0.0   \n",
       "669         0.0     0.0  ...     0.0     0.0     0.0     0.0     0.0     0.0   \n",
       "670         0.0     0.0  ...     0.0     0.0     0.0     0.0     0.0     0.0   \n",
       "671         0.0     0.0  ...     0.0     0.0     0.0     0.0     0.0     0.0   \n",
       "\n",
       "movieId  162376  162542  162672  163949  \n",
       "userId                                   \n",
       "1           0.0     0.0     0.0     0.0  \n",
       "2           0.0     0.0     0.0     0.0  \n",
       "3           0.0     0.0     0.0     0.0  \n",
       "4           0.0     0.0     0.0     0.0  \n",
       "5           0.0     0.0     0.0     0.0  \n",
       "...         ...     ...     ...     ...  \n",
       "667         0.0     0.0     0.0     0.0  \n",
       "668         0.0     0.0     0.0     0.0  \n",
       "669         0.0     0.0     0.0     0.0  \n",
       "670         0.0     0.0     0.0     0.0  \n",
       "671         0.0     0.0     0.0     0.0  \n",
       "\n",
       "[671 rows x 9066 columns]"
      ]
     },
     "execution_count": 42,
     "metadata": {},
     "output_type": "execute_result"
    }
   ],
   "source": [
    "df_user_movie_ratings"
   ]
  },
  {
   "cell_type": "markdown",
   "metadata": {},
   "source": [
    "1. pivot table을 matrix로 변환\n",
    "2. np.mean(axis=1)을 통해 각 사용자들이 매기는 평점 평균을 구함\n",
    "3. 1에서 구한 값과 2에서 구한 값을 빼서 사용자-평균 데이터 값을 변경"
   ]
  },
  {
   "cell_type": "code",
   "execution_count": 44,
   "metadata": {},
   "outputs": [],
   "source": [
    "# as_matrix() -> pandas 0.23.0 버전에서 사용중단됨\n",
    "#numpy matrix로 만든것\n",
    "matrix = df_user_movie_ratings.to_numpy()"
   ]
  },
  {
   "cell_type": "code",
   "execution_count": 45,
   "metadata": {},
   "outputs": [
    {
     "data": {
      "text/plain": [
       "array([[0., 0., 0., ..., 0., 0., 0.],\n",
       "       [0., 0., 0., ..., 0., 0., 0.],\n",
       "       [0., 0., 0., ..., 0., 0., 0.],\n",
       "       ...,\n",
       "       [0., 0., 0., ..., 0., 0., 0.],\n",
       "       [4., 0., 0., ..., 0., 0., 0.],\n",
       "       [5., 0., 0., ..., 0., 0., 0.]])"
      ]
     },
     "execution_count": 45,
     "metadata": {},
     "output_type": "execute_result"
    }
   ],
   "source": [
    "matrix"
   ]
  },
  {
   "cell_type": "code",
   "execution_count": 46,
   "metadata": {},
   "outputs": [],
   "source": [
    "# user_ratings_mean은 사용자의 평균 평점\n",
    "user_ratings_mean =  np.mean(matrix,axis=1)"
   ]
  },
  {
   "cell_type": "code",
   "execution_count": 47,
   "metadata": {},
   "outputs": [],
   "source": [
    "# R_user_mean : 사용자- 영화에 대해 사용자 평균 평점을 뺀 것.\n",
    "matrix_user_mean = matrix - user_ratings_mean.reshape(-1,1)"
   ]
  },
  {
   "cell_type": "code",
   "execution_count": 49,
   "metadata": {},
   "outputs": [
    {
     "data": {
      "text/plain": [
       "(671, 9066)"
      ]
     },
     "execution_count": 49,
     "metadata": {},
     "output_type": "execute_result"
    }
   ],
   "source": [
    "matrix.shape"
   ]
  },
  {
   "cell_type": "code",
   "execution_count": 50,
   "metadata": {},
   "outputs": [
    {
     "data": {
      "text/html": [
       "<div>\n",
       "<style scoped>\n",
       "    .dataframe tbody tr th:only-of-type {\n",
       "        vertical-align: middle;\n",
       "    }\n",
       "\n",
       "    .dataframe tbody tr th {\n",
       "        vertical-align: top;\n",
       "    }\n",
       "\n",
       "    .dataframe thead th {\n",
       "        text-align: right;\n",
       "    }\n",
       "</style>\n",
       "<table border=\"1\" class=\"dataframe\">\n",
       "  <thead>\n",
       "    <tr style=\"text-align: right;\">\n",
       "      <th>movieId</th>\n",
       "      <th>1</th>\n",
       "      <th>2</th>\n",
       "      <th>3</th>\n",
       "      <th>4</th>\n",
       "      <th>5</th>\n",
       "      <th>6</th>\n",
       "      <th>7</th>\n",
       "      <th>8</th>\n",
       "      <th>9</th>\n",
       "      <th>10</th>\n",
       "      <th>...</th>\n",
       "      <th>161084</th>\n",
       "      <th>161155</th>\n",
       "      <th>161594</th>\n",
       "      <th>161830</th>\n",
       "      <th>161918</th>\n",
       "      <th>161944</th>\n",
       "      <th>162376</th>\n",
       "      <th>162542</th>\n",
       "      <th>162672</th>\n",
       "      <th>163949</th>\n",
       "    </tr>\n",
       "  </thead>\n",
       "  <tbody>\n",
       "    <tr>\n",
       "      <th>0</th>\n",
       "      <td>-0.005625</td>\n",
       "      <td>-0.005625</td>\n",
       "      <td>-0.005625</td>\n",
       "      <td>-0.005625</td>\n",
       "      <td>-0.005625</td>\n",
       "      <td>-0.005625</td>\n",
       "      <td>-0.005625</td>\n",
       "      <td>-0.005625</td>\n",
       "      <td>-0.005625</td>\n",
       "      <td>-0.005625</td>\n",
       "      <td>...</td>\n",
       "      <td>-0.005625</td>\n",
       "      <td>-0.005625</td>\n",
       "      <td>-0.005625</td>\n",
       "      <td>-0.005625</td>\n",
       "      <td>-0.005625</td>\n",
       "      <td>-0.005625</td>\n",
       "      <td>-0.005625</td>\n",
       "      <td>-0.005625</td>\n",
       "      <td>-0.005625</td>\n",
       "      <td>-0.005625</td>\n",
       "    </tr>\n",
       "    <tr>\n",
       "      <th>1</th>\n",
       "      <td>-0.029230</td>\n",
       "      <td>-0.029230</td>\n",
       "      <td>-0.029230</td>\n",
       "      <td>-0.029230</td>\n",
       "      <td>-0.029230</td>\n",
       "      <td>-0.029230</td>\n",
       "      <td>-0.029230</td>\n",
       "      <td>-0.029230</td>\n",
       "      <td>-0.029230</td>\n",
       "      <td>3.970770</td>\n",
       "      <td>...</td>\n",
       "      <td>-0.029230</td>\n",
       "      <td>-0.029230</td>\n",
       "      <td>-0.029230</td>\n",
       "      <td>-0.029230</td>\n",
       "      <td>-0.029230</td>\n",
       "      <td>-0.029230</td>\n",
       "      <td>-0.029230</td>\n",
       "      <td>-0.029230</td>\n",
       "      <td>-0.029230</td>\n",
       "      <td>-0.029230</td>\n",
       "    </tr>\n",
       "    <tr>\n",
       "      <th>2</th>\n",
       "      <td>-0.020075</td>\n",
       "      <td>-0.020075</td>\n",
       "      <td>-0.020075</td>\n",
       "      <td>-0.020075</td>\n",
       "      <td>-0.020075</td>\n",
       "      <td>-0.020075</td>\n",
       "      <td>-0.020075</td>\n",
       "      <td>-0.020075</td>\n",
       "      <td>-0.020075</td>\n",
       "      <td>-0.020075</td>\n",
       "      <td>...</td>\n",
       "      <td>-0.020075</td>\n",
       "      <td>-0.020075</td>\n",
       "      <td>-0.020075</td>\n",
       "      <td>-0.020075</td>\n",
       "      <td>-0.020075</td>\n",
       "      <td>-0.020075</td>\n",
       "      <td>-0.020075</td>\n",
       "      <td>-0.020075</td>\n",
       "      <td>-0.020075</td>\n",
       "      <td>-0.020075</td>\n",
       "    </tr>\n",
       "    <tr>\n",
       "      <th>3</th>\n",
       "      <td>-0.097838</td>\n",
       "      <td>-0.097838</td>\n",
       "      <td>-0.097838</td>\n",
       "      <td>-0.097838</td>\n",
       "      <td>-0.097838</td>\n",
       "      <td>-0.097838</td>\n",
       "      <td>-0.097838</td>\n",
       "      <td>-0.097838</td>\n",
       "      <td>-0.097838</td>\n",
       "      <td>3.902162</td>\n",
       "      <td>...</td>\n",
       "      <td>-0.097838</td>\n",
       "      <td>-0.097838</td>\n",
       "      <td>-0.097838</td>\n",
       "      <td>-0.097838</td>\n",
       "      <td>-0.097838</td>\n",
       "      <td>-0.097838</td>\n",
       "      <td>-0.097838</td>\n",
       "      <td>-0.097838</td>\n",
       "      <td>-0.097838</td>\n",
       "      <td>-0.097838</td>\n",
       "    </tr>\n",
       "    <tr>\n",
       "      <th>4</th>\n",
       "      <td>-0.043128</td>\n",
       "      <td>-0.043128</td>\n",
       "      <td>3.956872</td>\n",
       "      <td>-0.043128</td>\n",
       "      <td>-0.043128</td>\n",
       "      <td>-0.043128</td>\n",
       "      <td>-0.043128</td>\n",
       "      <td>-0.043128</td>\n",
       "      <td>-0.043128</td>\n",
       "      <td>-0.043128</td>\n",
       "      <td>...</td>\n",
       "      <td>-0.043128</td>\n",
       "      <td>-0.043128</td>\n",
       "      <td>-0.043128</td>\n",
       "      <td>-0.043128</td>\n",
       "      <td>-0.043128</td>\n",
       "      <td>-0.043128</td>\n",
       "      <td>-0.043128</td>\n",
       "      <td>-0.043128</td>\n",
       "      <td>-0.043128</td>\n",
       "      <td>-0.043128</td>\n",
       "    </tr>\n",
       "  </tbody>\n",
       "</table>\n",
       "<p>5 rows × 9066 columns</p>\n",
       "</div>"
      ],
      "text/plain": [
       "movieId    1         2         3         4         5         6         7       \\\n",
       "0       -0.005625 -0.005625 -0.005625 -0.005625 -0.005625 -0.005625 -0.005625   \n",
       "1       -0.029230 -0.029230 -0.029230 -0.029230 -0.029230 -0.029230 -0.029230   \n",
       "2       -0.020075 -0.020075 -0.020075 -0.020075 -0.020075 -0.020075 -0.020075   \n",
       "3       -0.097838 -0.097838 -0.097838 -0.097838 -0.097838 -0.097838 -0.097838   \n",
       "4       -0.043128 -0.043128  3.956872 -0.043128 -0.043128 -0.043128 -0.043128   \n",
       "\n",
       "movieId    8         9         10      ...    161084    161155    161594  \\\n",
       "0       -0.005625 -0.005625 -0.005625  ... -0.005625 -0.005625 -0.005625   \n",
       "1       -0.029230 -0.029230  3.970770  ... -0.029230 -0.029230 -0.029230   \n",
       "2       -0.020075 -0.020075 -0.020075  ... -0.020075 -0.020075 -0.020075   \n",
       "3       -0.097838 -0.097838  3.902162  ... -0.097838 -0.097838 -0.097838   \n",
       "4       -0.043128 -0.043128 -0.043128  ... -0.043128 -0.043128 -0.043128   \n",
       "\n",
       "movieId    161830    161918    161944    162376    162542    162672    163949  \n",
       "0       -0.005625 -0.005625 -0.005625 -0.005625 -0.005625 -0.005625 -0.005625  \n",
       "1       -0.029230 -0.029230 -0.029230 -0.029230 -0.029230 -0.029230 -0.029230  \n",
       "2       -0.020075 -0.020075 -0.020075 -0.020075 -0.020075 -0.020075 -0.020075  \n",
       "3       -0.097838 -0.097838 -0.097838 -0.097838 -0.097838 -0.097838 -0.097838  \n",
       "4       -0.043128 -0.043128 -0.043128 -0.043128 -0.043128 -0.043128 -0.043128  \n",
       "\n",
       "[5 rows x 9066 columns]"
      ]
     },
     "execution_count": 50,
     "metadata": {},
     "output_type": "execute_result"
    }
   ],
   "source": [
    "pd.DataFrame(matrix_user_mean, columns= df_user_movie_ratings.columns).head()"
   ]
  },
  {
   "cell_type": "markdown",
   "metadata": {},
   "source": [
    "1. 사용자 671명이 9066개의 영화에 대해 평점을 매긴 값이 존재\n",
    "2. 사용자 671명의 각각 평균 평점을 구함\n",
    "3. 사용자 671명의 9066개의 영화에 대해 평점을 조금 변경 -> 1에서 구한 값 -> 2에서 구한값"
   ]
  },
  {
   "cell_type": "code",
   "execution_count": 51,
   "metadata": {},
   "outputs": [],
   "source": [
    "# scipy에서 제공해주는 svd.\n",
    "# U행렬, sigma 행렬, V 전치 행렬을 반환.\n",
    "\n",
    "U, sigma, Vt = svds(matrix_user_mean, k=12)"
   ]
  },
  {
   "cell_type": "code",
   "execution_count": 52,
   "metadata": {},
   "outputs": [
    {
     "name": "stdout",
     "output_type": "stream",
     "text": [
      "(671, 12)\n",
      "(12,)\n",
      "(12, 9066)\n"
     ]
    }
   ],
   "source": [
    "print(U.shape)\n",
    "print(sigma.shape)\n",
    "print(Vt.shape)"
   ]
  },
  {
   "cell_type": "markdown",
   "metadata": {},
   "source": [
    "현재 이 Sigma 행렬은 0이 아닌 값만 1차원 행렬로 표현된 상태\n",
    "- 즉, 0이 포함된 대칭행렬로 변환할 때는 Numpy의 diag를 이용해야함"
   ]
  },
  {
   "cell_type": "code",
   "execution_count": 53,
   "metadata": {},
   "outputs": [],
   "source": [
    "sigma = np.diag(sigma)"
   ]
  },
  {
   "cell_type": "code",
   "execution_count": 55,
   "metadata": {},
   "outputs": [
    {
     "data": {
      "text/plain": [
       "(12, 12)"
      ]
     },
     "execution_count": 55,
     "metadata": {},
     "output_type": "execute_result"
    }
   ],
   "source": [
    "sigma.shape"
   ]
  },
  {
   "cell_type": "code",
   "execution_count": 56,
   "metadata": {},
   "outputs": [
    {
     "data": {
      "text/plain": [
       "array([105.72437051,   0.        ,   0.        ,   0.        ,\n",
       "         0.        ,   0.        ,   0.        ,   0.        ,\n",
       "         0.        ,   0.        ,   0.        ,   0.        ])"
      ]
     },
     "execution_count": 56,
     "metadata": {},
     "output_type": "execute_result"
    }
   ],
   "source": [
    "sigma[0]"
   ]
  },
  {
   "cell_type": "code",
   "execution_count": 57,
   "metadata": {},
   "outputs": [
    {
     "data": {
      "text/plain": [
       "array([  0.        , 110.15522471,   0.        ,   0.        ,\n",
       "         0.        ,   0.        ,   0.        ,   0.        ,\n",
       "         0.        ,   0.        ,   0.        ,   0.        ])"
      ]
     },
     "execution_count": 57,
     "metadata": {},
     "output_type": "execute_result"
    }
   ],
   "source": [
    "sigma[1]"
   ]
  },
  {
   "cell_type": "markdown",
   "metadata": {},
   "source": [
    "현재 까지 상황을 정리하면 아래와 같습니다.\n",
    "1. 원본 user-movie 평점 행렬이 있었음\n",
    "2. 이를 user의 평균 점수를 빼서 matrix_user_mean 이라는 행렬로 만듬\n",
    "3. 2번의 값을 SVD를 적용해 U, Sigma, Vt 행렬을 구했음\n",
    "4. Sigma 행렬은 현재 0이 포함이 되지 않은 값으로만 구성되어 있음. 이를 대칭행렬로 변환\n",
    "\n"
   ]
  },
  {
   "cell_type": "code",
   "execution_count": 58,
   "metadata": {},
   "outputs": [],
   "source": [
    "# U, Sigma, Vt의 내적을 수행하면, 다시 원본 행렬로 복원이 된다.\n",
    "# 거기에 + 사용자 평균 rating을 적용한다.w\n",
    "\n",
    "svd_user_predicted_ratings = np.dot(np.dot(U, sigma),Vt) + user_ratings_mean.reshape(-1,1)"
   ]
  },
  {
   "cell_type": "code",
   "execution_count": 59,
   "metadata": {},
   "outputs": [
    {
     "data": {
      "text/html": [
       "<div>\n",
       "<style scoped>\n",
       "    .dataframe tbody tr th:only-of-type {\n",
       "        vertical-align: middle;\n",
       "    }\n",
       "\n",
       "    .dataframe tbody tr th {\n",
       "        vertical-align: top;\n",
       "    }\n",
       "\n",
       "    .dataframe thead th {\n",
       "        text-align: right;\n",
       "    }\n",
       "</style>\n",
       "<table border=\"1\" class=\"dataframe\">\n",
       "  <thead>\n",
       "    <tr style=\"text-align: right;\">\n",
       "      <th>movieId</th>\n",
       "      <th>1</th>\n",
       "      <th>2</th>\n",
       "      <th>3</th>\n",
       "      <th>4</th>\n",
       "      <th>5</th>\n",
       "      <th>6</th>\n",
       "      <th>7</th>\n",
       "      <th>8</th>\n",
       "      <th>9</th>\n",
       "      <th>10</th>\n",
       "      <th>...</th>\n",
       "      <th>161084</th>\n",
       "      <th>161155</th>\n",
       "      <th>161594</th>\n",
       "      <th>161830</th>\n",
       "      <th>161918</th>\n",
       "      <th>161944</th>\n",
       "      <th>162376</th>\n",
       "      <th>162542</th>\n",
       "      <th>162672</th>\n",
       "      <th>163949</th>\n",
       "    </tr>\n",
       "  </thead>\n",
       "  <tbody>\n",
       "    <tr>\n",
       "      <th>0</th>\n",
       "      <td>-0.079686</td>\n",
       "      <td>0.021779</td>\n",
       "      <td>-0.013837</td>\n",
       "      <td>-0.005870</td>\n",
       "      <td>-0.028877</td>\n",
       "      <td>0.032371</td>\n",
       "      <td>0.000715</td>\n",
       "      <td>-0.004428</td>\n",
       "      <td>-0.005219</td>\n",
       "      <td>0.038195</td>\n",
       "      <td>...</td>\n",
       "      <td>-0.004324</td>\n",
       "      <td>-0.004352</td>\n",
       "      <td>0.010478</td>\n",
       "      <td>-0.004256</td>\n",
       "      <td>-0.003944</td>\n",
       "      <td>-0.005674</td>\n",
       "      <td>0.018157</td>\n",
       "      <td>-0.005575</td>\n",
       "      <td>-0.005297</td>\n",
       "      <td>-0.003766</td>\n",
       "    </tr>\n",
       "    <tr>\n",
       "      <th>1</th>\n",
       "      <td>1.428452</td>\n",
       "      <td>1.608841</td>\n",
       "      <td>0.529476</td>\n",
       "      <td>0.168278</td>\n",
       "      <td>0.520809</td>\n",
       "      <td>1.107473</td>\n",
       "      <td>0.529719</td>\n",
       "      <td>0.089376</td>\n",
       "      <td>0.296270</td>\n",
       "      <td>1.970031</td>\n",
       "      <td>...</td>\n",
       "      <td>0.013227</td>\n",
       "      <td>-0.002275</td>\n",
       "      <td>0.020680</td>\n",
       "      <td>-0.005245</td>\n",
       "      <td>-0.007644</td>\n",
       "      <td>-0.021019</td>\n",
       "      <td>0.031243</td>\n",
       "      <td>-0.000957</td>\n",
       "      <td>-0.000753</td>\n",
       "      <td>0.026901</td>\n",
       "    </tr>\n",
       "    <tr>\n",
       "      <th>2</th>\n",
       "      <td>0.977246</td>\n",
       "      <td>0.396971</td>\n",
       "      <td>0.000299</td>\n",
       "      <td>0.027444</td>\n",
       "      <td>0.021287</td>\n",
       "      <td>0.141458</td>\n",
       "      <td>-0.057134</td>\n",
       "      <td>0.031633</td>\n",
       "      <td>-0.012538</td>\n",
       "      <td>0.383576</td>\n",
       "      <td>...</td>\n",
       "      <td>0.002761</td>\n",
       "      <td>0.004907</td>\n",
       "      <td>-0.014190</td>\n",
       "      <td>-0.000251</td>\n",
       "      <td>-0.006007</td>\n",
       "      <td>-0.003189</td>\n",
       "      <td>-0.026916</td>\n",
       "      <td>0.014637</td>\n",
       "      <td>0.013287</td>\n",
       "      <td>-0.005741</td>\n",
       "    </tr>\n",
       "    <tr>\n",
       "      <th>3</th>\n",
       "      <td>1.870844</td>\n",
       "      <td>1.169993</td>\n",
       "      <td>0.252202</td>\n",
       "      <td>0.094831</td>\n",
       "      <td>-0.181713</td>\n",
       "      <td>-0.511953</td>\n",
       "      <td>-0.027820</td>\n",
       "      <td>-0.143080</td>\n",
       "      <td>0.013247</td>\n",
       "      <td>1.461694</td>\n",
       "      <td>...</td>\n",
       "      <td>0.026412</td>\n",
       "      <td>-0.027245</td>\n",
       "      <td>0.054681</td>\n",
       "      <td>0.018450</td>\n",
       "      <td>0.034544</td>\n",
       "      <td>-0.035740</td>\n",
       "      <td>0.088889</td>\n",
       "      <td>-0.019365</td>\n",
       "      <td>-0.017113</td>\n",
       "      <td>0.066559</td>\n",
       "    </tr>\n",
       "    <tr>\n",
       "      <th>4</th>\n",
       "      <td>1.182777</td>\n",
       "      <td>0.924903</td>\n",
       "      <td>0.075998</td>\n",
       "      <td>0.061505</td>\n",
       "      <td>0.602680</td>\n",
       "      <td>-0.159825</td>\n",
       "      <td>0.339925</td>\n",
       "      <td>0.081534</td>\n",
       "      <td>-0.079666</td>\n",
       "      <td>0.535018</td>\n",
       "      <td>...</td>\n",
       "      <td>-0.029124</td>\n",
       "      <td>-0.029357</td>\n",
       "      <td>0.009064</td>\n",
       "      <td>-0.029092</td>\n",
       "      <td>-0.030890</td>\n",
       "      <td>-0.057453</td>\n",
       "      <td>0.026344</td>\n",
       "      <td>-0.024027</td>\n",
       "      <td>-0.024614</td>\n",
       "      <td>-0.032752</td>\n",
       "    </tr>\n",
       "  </tbody>\n",
       "</table>\n",
       "<p>5 rows × 9066 columns</p>\n",
       "</div>"
      ],
      "text/plain": [
       "movieId    1         2         3         4         5         6         7       \\\n",
       "0       -0.079686  0.021779 -0.013837 -0.005870 -0.028877  0.032371  0.000715   \n",
       "1        1.428452  1.608841  0.529476  0.168278  0.520809  1.107473  0.529719   \n",
       "2        0.977246  0.396971  0.000299  0.027444  0.021287  0.141458 -0.057134   \n",
       "3        1.870844  1.169993  0.252202  0.094831 -0.181713 -0.511953 -0.027820   \n",
       "4        1.182777  0.924903  0.075998  0.061505  0.602680 -0.159825  0.339925   \n",
       "\n",
       "movieId    8         9         10      ...    161084    161155    161594  \\\n",
       "0       -0.004428 -0.005219  0.038195  ... -0.004324 -0.004352  0.010478   \n",
       "1        0.089376  0.296270  1.970031  ...  0.013227 -0.002275  0.020680   \n",
       "2        0.031633 -0.012538  0.383576  ...  0.002761  0.004907 -0.014190   \n",
       "3       -0.143080  0.013247  1.461694  ...  0.026412 -0.027245  0.054681   \n",
       "4        0.081534 -0.079666  0.535018  ... -0.029124 -0.029357  0.009064   \n",
       "\n",
       "movieId    161830    161918    161944    162376    162542    162672    163949  \n",
       "0       -0.004256 -0.003944 -0.005674  0.018157 -0.005575 -0.005297 -0.003766  \n",
       "1       -0.005245 -0.007644 -0.021019  0.031243 -0.000957 -0.000753  0.026901  \n",
       "2       -0.000251 -0.006007 -0.003189 -0.026916  0.014637  0.013287 -0.005741  \n",
       "3        0.018450  0.034544 -0.035740  0.088889 -0.019365 -0.017113  0.066559  \n",
       "4       -0.029092 -0.030890 -0.057453  0.026344 -0.024027 -0.024614 -0.032752  \n",
       "\n",
       "[5 rows x 9066 columns]"
      ]
     },
     "execution_count": 59,
     "metadata": {},
     "output_type": "execute_result"
    }
   ],
   "source": [
    "df_svd_preds = pd.DataFrame(svd_user_predicted_ratings, columns = df_user_movie_ratings.columns)\n",
    "df_svd_preds.head()"
   ]
  },
  {
   "cell_type": "code",
   "execution_count": 60,
   "metadata": {},
   "outputs": [
    {
     "data": {
      "text/plain": [
       "(671, 9066)"
      ]
     },
     "execution_count": 60,
     "metadata": {},
     "output_type": "execute_result"
    }
   ],
   "source": [
    "df_svd_preds.shape"
   ]
  },
  {
   "cell_type": "markdown",
   "metadata": {},
   "source": [
    "- 인자를 사용자 아이디, 영화 정보 테이블, 평점 테이블 등을 받음\n",
    "- 사용자 아이디에 SVD로 나온 결과의 영화 평점이 가장 높은 데이터 순으로 정렬\n",
    "- 사용자가 본 데이터를 제외\n",
    "- 사용자가 안 본 영화에서 평점이 높은 것을 추천"
   ]
  },
  {
   "cell_type": "markdown",
   "metadata": {},
   "source": [
    "### 왜 사용자 평균을 빼고 다시 더핧까?\n",
    "1. 사용자의 성향을 보정하기 위해 :\n",
    "    - 각 사용자의 평점 습관이 다름. 어떤 사용자는 대체로 높은 평점을 주고, 어떤 사용자는 낮은 평점을 줄 수 있음.\n",
    "    - 예를 들어, User1은 모든 영화에 높은 평점을 주는 경향이 있다면, 단순히 그가 준 평점만 보면 그의 취향을 제대로 파악하기 어려움\n",
    "    - 이때, 평균을 빼줌으로써 그 사람의 절대적인 평점 대신 영화 간의 상대적인 차이를 살피는 것임"
   ]
  },
  {
   "cell_type": "code",
   "execution_count": 64,
   "metadata": {},
   "outputs": [],
   "source": [
    "def recommend_movies(df_svd_preds, user_id, ori_movies_df, ori_ratings_df, num_recommendations=5):\n",
    "    \n",
    "    #현재는 index로 적용이 되어있으므로 user_id - 1을 해야함.\n",
    "    user_row_number = user_id - 1 \n",
    "    \n",
    "    # 최종적으로 만든 pred_df에서 사용자 index에 따라 영화 데이터 정렬 -> 영화 평점이 높은 순으로 정렬 됌\n",
    "    sorted_user_predictions = df_svd_preds.iloc[user_row_number].sort_values(ascending=False)\n",
    "    \n",
    "    # 원본 평점 데이터에서 user id에 해당하는 데이터를 뽑아낸다. \n",
    "    user_data = ori_ratings_df[ori_ratings_df.userId == user_id]\n",
    "    \n",
    "    # 위에서 뽑은 user_data와 원본 영화 데이터를 합친다. \n",
    "    user_history = user_data.merge(ori_movies_df, on = 'movieId').sort_values(['rating'], ascending=False)\n",
    "    \n",
    "    # 원본 영화 데이터에서 사용자가 본 영화 데이터를 제외한 데이터를 추출\n",
    "    recommendations = ori_movies_df[~ori_movies_df['movieId'].isin(user_history['movieId'])]\n",
    "    # 사용자의 영화 평점이 높은 순으로 정렬된 데이터와 위 recommendations을 합친다. \n",
    "    recommendations = recommendations.merge( pd.DataFrame(sorted_user_predictions).reset_index(), on = 'movieId')\n",
    "    # 컬럼 이름 바꾸고 정렬해서 return\n",
    "    recommendations = recommendations.rename(columns = {user_row_number: 'Predictions'}).sort_values('Predictions', ascending = False).iloc[:num_recommendations, :]\n",
    "                      \n",
    "\n",
    "    return user_history, recommendations"
   ]
  },
  {
   "cell_type": "code",
   "execution_count": 65,
   "metadata": {},
   "outputs": [],
   "source": [
    "already_rated, predictions = recommend_movies(df_svd_preds, 330, df_movies, df_ratings, 10)"
   ]
  },
  {
   "cell_type": "code",
   "execution_count": 67,
   "metadata": {},
   "outputs": [
    {
     "data": {
      "text/html": [
       "<div>\n",
       "<style scoped>\n",
       "    .dataframe tbody tr th:only-of-type {\n",
       "        vertical-align: middle;\n",
       "    }\n",
       "\n",
       "    .dataframe tbody tr th {\n",
       "        vertical-align: top;\n",
       "    }\n",
       "\n",
       "    .dataframe thead th {\n",
       "        text-align: right;\n",
       "    }\n",
       "</style>\n",
       "<table border=\"1\" class=\"dataframe\">\n",
       "  <thead>\n",
       "    <tr style=\"text-align: right;\">\n",
       "      <th></th>\n",
       "      <th>userId</th>\n",
       "      <th>movieId</th>\n",
       "      <th>rating</th>\n",
       "      <th>timestamp</th>\n",
       "      <th>title</th>\n",
       "      <th>genres</th>\n",
       "    </tr>\n",
       "  </thead>\n",
       "  <tbody>\n",
       "    <tr>\n",
       "      <th>47</th>\n",
       "      <td>330</td>\n",
       "      <td>1094</td>\n",
       "      <td>5.0</td>\n",
       "      <td>948577200</td>\n",
       "      <td>Crying Game, The (1992)</td>\n",
       "      <td>Drama|Romance|Thriller</td>\n",
       "    </tr>\n",
       "    <tr>\n",
       "      <th>14</th>\n",
       "      <td>330</td>\n",
       "      <td>213</td>\n",
       "      <td>5.0</td>\n",
       "      <td>948577039</td>\n",
       "      <td>Burnt by the Sun (Utomlyonnye solntsem) (1994)</td>\n",
       "      <td>Drama</td>\n",
       "    </tr>\n",
       "    <tr>\n",
       "      <th>34</th>\n",
       "      <td>330</td>\n",
       "      <td>527</td>\n",
       "      <td>5.0</td>\n",
       "      <td>948577164</td>\n",
       "      <td>Schindler's List (1993)</td>\n",
       "      <td>Drama|War</td>\n",
       "    </tr>\n",
       "    <tr>\n",
       "      <th>45</th>\n",
       "      <td>330</td>\n",
       "      <td>1035</td>\n",
       "      <td>5.0</td>\n",
       "      <td>948574126</td>\n",
       "      <td>Sound of Music, The (1965)</td>\n",
       "      <td>Musical|Romance</td>\n",
       "    </tr>\n",
       "    <tr>\n",
       "      <th>48</th>\n",
       "      <td>330</td>\n",
       "      <td>1172</td>\n",
       "      <td>5.0</td>\n",
       "      <td>948575236</td>\n",
       "      <td>Cinema Paradiso (Nuovo cinema Paradiso) (1989)</td>\n",
       "      <td>Drama</td>\n",
       "    </tr>\n",
       "    <tr>\n",
       "      <th>53</th>\n",
       "      <td>330</td>\n",
       "      <td>1249</td>\n",
       "      <td>5.0</td>\n",
       "      <td>948576522</td>\n",
       "      <td>Femme Nikita, La (Nikita) (1990)</td>\n",
       "      <td>Action|Crime|Romance|Thriller</td>\n",
       "    </tr>\n",
       "    <tr>\n",
       "      <th>27</th>\n",
       "      <td>330</td>\n",
       "      <td>373</td>\n",
       "      <td>5.0</td>\n",
       "      <td>948576522</td>\n",
       "      <td>Red Rock West (1992)</td>\n",
       "      <td>Thriller</td>\n",
       "    </tr>\n",
       "    <tr>\n",
       "      <th>58</th>\n",
       "      <td>330</td>\n",
       "      <td>1428</td>\n",
       "      <td>5.0</td>\n",
       "      <td>948731410</td>\n",
       "      <td>Angel Baby (1995)</td>\n",
       "      <td>Drama</td>\n",
       "    </tr>\n",
       "    <tr>\n",
       "      <th>61</th>\n",
       "      <td>330</td>\n",
       "      <td>1575</td>\n",
       "      <td>5.0</td>\n",
       "      <td>948577442</td>\n",
       "      <td>Gabbeh (1996)</td>\n",
       "      <td>Drama</td>\n",
       "    </tr>\n",
       "    <tr>\n",
       "      <th>67</th>\n",
       "      <td>330</td>\n",
       "      <td>1683</td>\n",
       "      <td>5.0</td>\n",
       "      <td>948578017</td>\n",
       "      <td>Wings of the Dove, The (1997)</td>\n",
       "      <td>Drama|Romance</td>\n",
       "    </tr>\n",
       "  </tbody>\n",
       "</table>\n",
       "</div>"
      ],
      "text/plain": [
       "    userId  movieId  rating  timestamp  \\\n",
       "47     330     1094     5.0  948577200   \n",
       "14     330      213     5.0  948577039   \n",
       "34     330      527     5.0  948577164   \n",
       "45     330     1035     5.0  948574126   \n",
       "48     330     1172     5.0  948575236   \n",
       "53     330     1249     5.0  948576522   \n",
       "27     330      373     5.0  948576522   \n",
       "58     330     1428     5.0  948731410   \n",
       "61     330     1575     5.0  948577442   \n",
       "67     330     1683     5.0  948578017   \n",
       "\n",
       "                                             title  \\\n",
       "47                         Crying Game, The (1992)   \n",
       "14  Burnt by the Sun (Utomlyonnye solntsem) (1994)   \n",
       "34                         Schindler's List (1993)   \n",
       "45                      Sound of Music, The (1965)   \n",
       "48  Cinema Paradiso (Nuovo cinema Paradiso) (1989)   \n",
       "53                Femme Nikita, La (Nikita) (1990)   \n",
       "27                            Red Rock West (1992)   \n",
       "58                               Angel Baby (1995)   \n",
       "61                                   Gabbeh (1996)   \n",
       "67                   Wings of the Dove, The (1997)   \n",
       "\n",
       "                           genres  \n",
       "47         Drama|Romance|Thriller  \n",
       "14                          Drama  \n",
       "34                      Drama|War  \n",
       "45                Musical|Romance  \n",
       "48                          Drama  \n",
       "53  Action|Crime|Romance|Thriller  \n",
       "27                       Thriller  \n",
       "58                          Drama  \n",
       "61                          Drama  \n",
       "67                  Drama|Romance  "
      ]
     },
     "execution_count": 67,
     "metadata": {},
     "output_type": "execute_result"
    }
   ],
   "source": [
    "already_rated.head(10)"
   ]
  },
  {
   "cell_type": "code",
   "execution_count": 68,
   "metadata": {},
   "outputs": [
    {
     "data": {
      "text/html": [
       "<div>\n",
       "<style scoped>\n",
       "    .dataframe tbody tr th:only-of-type {\n",
       "        vertical-align: middle;\n",
       "    }\n",
       "\n",
       "    .dataframe tbody tr th {\n",
       "        vertical-align: top;\n",
       "    }\n",
       "\n",
       "    .dataframe thead th {\n",
       "        text-align: right;\n",
       "    }\n",
       "</style>\n",
       "<table border=\"1\" class=\"dataframe\">\n",
       "  <thead>\n",
       "    <tr style=\"text-align: right;\">\n",
       "      <th></th>\n",
       "      <th>movieId</th>\n",
       "      <th>title</th>\n",
       "      <th>genres</th>\n",
       "      <th>Predictions</th>\n",
       "    </tr>\n",
       "  </thead>\n",
       "  <tbody>\n",
       "    <tr>\n",
       "      <th>246</th>\n",
       "      <td>296</td>\n",
       "      <td>Pulp Fiction (1994)</td>\n",
       "      <td>Comedy|Crime|Drama|Thriller</td>\n",
       "      <td>2.060064</td>\n",
       "    </tr>\n",
       "    <tr>\n",
       "      <th>294</th>\n",
       "      <td>356</td>\n",
       "      <td>Forrest Gump (1994)</td>\n",
       "      <td>Comedy|Drama|Romance|War</td>\n",
       "      <td>1.772814</td>\n",
       "    </tr>\n",
       "    <tr>\n",
       "      <th>497</th>\n",
       "      <td>608</td>\n",
       "      <td>Fargo (1996)</td>\n",
       "      <td>Comedy|Crime|Drama|Thriller</td>\n",
       "      <td>1.526111</td>\n",
       "    </tr>\n",
       "    <tr>\n",
       "      <th>487</th>\n",
       "      <td>590</td>\n",
       "      <td>Dances with Wolves (1990)</td>\n",
       "      <td>Adventure|Drama|Western</td>\n",
       "      <td>1.508960</td>\n",
       "    </tr>\n",
       "    <tr>\n",
       "      <th>316</th>\n",
       "      <td>380</td>\n",
       "      <td>True Lies (1994)</td>\n",
       "      <td>Action|Adventure|Comedy|Romance|Thriller</td>\n",
       "      <td>1.276646</td>\n",
       "    </tr>\n",
       "    <tr>\n",
       "      <th>40</th>\n",
       "      <td>47</td>\n",
       "      <td>Seven (a.k.a. Se7en) (1995)</td>\n",
       "      <td>Mystery|Thriller</td>\n",
       "      <td>1.265219</td>\n",
       "    </tr>\n",
       "    <tr>\n",
       "      <th>313</th>\n",
       "      <td>377</td>\n",
       "      <td>Speed (1994)</td>\n",
       "      <td>Action|Romance|Thriller</td>\n",
       "      <td>1.142113</td>\n",
       "    </tr>\n",
       "    <tr>\n",
       "      <th>214</th>\n",
       "      <td>260</td>\n",
       "      <td>Star Wars: Episode IV - A New Hope (1977)</td>\n",
       "      <td>Action|Adventure|Sci-Fi</td>\n",
       "      <td>1.076539</td>\n",
       "    </tr>\n",
       "    <tr>\n",
       "      <th>295</th>\n",
       "      <td>357</td>\n",
       "      <td>Four Weddings and a Funeral (1994)</td>\n",
       "      <td>Comedy|Romance</td>\n",
       "      <td>1.065911</td>\n",
       "    </tr>\n",
       "    <tr>\n",
       "      <th>488</th>\n",
       "      <td>592</td>\n",
       "      <td>Batman (1989)</td>\n",
       "      <td>Action|Crime|Thriller</td>\n",
       "      <td>1.048861</td>\n",
       "    </tr>\n",
       "  </tbody>\n",
       "</table>\n",
       "</div>"
      ],
      "text/plain": [
       "     movieId                                      title  \\\n",
       "246      296                        Pulp Fiction (1994)   \n",
       "294      356                        Forrest Gump (1994)   \n",
       "497      608                               Fargo (1996)   \n",
       "487      590                  Dances with Wolves (1990)   \n",
       "316      380                           True Lies (1994)   \n",
       "40        47                Seven (a.k.a. Se7en) (1995)   \n",
       "313      377                               Speed (1994)   \n",
       "214      260  Star Wars: Episode IV - A New Hope (1977)   \n",
       "295      357         Four Weddings and a Funeral (1994)   \n",
       "488      592                              Batman (1989)   \n",
       "\n",
       "                                       genres  Predictions  \n",
       "246               Comedy|Crime|Drama|Thriller     2.060064  \n",
       "294                  Comedy|Drama|Romance|War     1.772814  \n",
       "497               Comedy|Crime|Drama|Thriller     1.526111  \n",
       "487                   Adventure|Drama|Western     1.508960  \n",
       "316  Action|Adventure|Comedy|Romance|Thriller     1.276646  \n",
       "40                           Mystery|Thriller     1.265219  \n",
       "313                   Action|Romance|Thriller     1.142113  \n",
       "214                   Action|Adventure|Sci-Fi     1.076539  \n",
       "295                            Comedy|Romance     1.065911  \n",
       "488                     Action|Crime|Thriller     1.048861  "
      ]
     },
     "execution_count": 68,
     "metadata": {},
     "output_type": "execute_result"
    }
   ],
   "source": [
    "predictions"
   ]
  }
 ],
 "metadata": {
  "kernelspec": {
   "display_name": "envev",
   "language": "python",
   "name": "python3"
  },
  "language_info": {
   "codemirror_mode": {
    "name": "ipython",
    "version": 3
   },
   "file_extension": ".py",
   "mimetype": "text/x-python",
   "name": "python",
   "nbconvert_exporter": "python",
   "pygments_lexer": "ipython3",
   "version": "3.12.4"
  }
 },
 "nbformat": 4,
 "nbformat_minor": 2
}
