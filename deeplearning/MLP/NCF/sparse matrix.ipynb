{
 "cells": [
  {
   "cell_type": "markdown",
   "metadata": {},
   "source": [
    "# 파이썬에서 scipy.sparse 희소 행렬(sparse matrix) 다루기\n",
    "- Sparse한 matrix를 다룰 때 scipy.sparse를 사용함\n",
    "- 대규모 행렬을 다룰 때 메모리 문제를 해결하기 위해 사용\n",
    "- scipy.sparse의 matrix를 만드는 방법은 sparse matrix 구성요소를 직접 입력하는 방법과 numpy.ndarray를 입력하는 방법이 있음"
   ]
  },
  {
   "cell_type": "markdown",
   "metadata": {},
   "source": [
    "## 희소행렬 \n",
    "1. 희소행렬이란? 행렬의 원소 중에 많은 항들이 '0'으로 구성되어 있는 행렬\n",
    "- 희소 행렬의 대부분의 항은 '0'으로 이루어져 있어, 실제 사용하지 않는 메모리 공간으로 인해 메모리 낭비가 발생하게 된다.\n",
    "- 그러나 0 값을 제외하고 0이 아닌 값(비영 요소)만 따로 추출하여 새로운 배열로 구성하는 방법을 사용함으로써 메모리를 효율적으로 사용할 수 있음"
   ]
  },
  {
   "cell_type": "markdown",
   "metadata": {},
   "source": [
    "#### 1. numpy.ndarrays를 직접 입력"
   ]
  },
  {
   "cell_type": "code",
   "execution_count": 2,
   "metadata": {},
   "outputs": [
    {
     "data": {
      "text/plain": [
       "array([[1., 0., 0.],\n",
       "       [0., 1., 0.],\n",
       "       [0., 0., 1.]])"
      ]
     },
     "execution_count": 2,
     "metadata": {},
     "output_type": "execute_result"
    }
   ],
   "source": [
    "import numpy as np\n",
    "from scipy import sparse\n",
    "\n",
    "matrix = np.eye(3)\n",
    "matrix"
   ]
  },
  {
   "cell_type": "code",
   "execution_count": 3,
   "metadata": {},
   "outputs": [
    {
     "data": {
      "text/plain": [
       "<Compressed Sparse Row sparse matrix of dtype 'float64'\n",
       "\twith 3 stored elements and shape (3, 3)>"
      ]
     },
     "execution_count": 3,
     "metadata": {},
     "output_type": "execute_result"
    }
   ],
   "source": [
    "#csr_matrix를 이용\n",
    "\n",
    "sparse_matrix = sparse.csr_matrix(matrix)\n",
    "sparse_matrix"
   ]
  },
  {
   "cell_type": "code",
   "execution_count": 4,
   "metadata": {},
   "outputs": [
    {
     "name": "stdout",
     "output_type": "stream",
     "text": [
      "<Compressed Sparse Row sparse matrix of dtype 'float64'\n",
      "\twith 3 stored elements and shape (3, 3)>\n",
      "  Coords\tValues\n",
      "  (0, 0)\t1.0\n",
      "  (1, 1)\t1.0\n",
      "  (2, 2)\t1.0\n"
     ]
    }
   ],
   "source": [
    "print(sparse_matrix)"
   ]
  },
  {
   "cell_type": "markdown",
   "metadata": {},
   "source": [
    "#### 2. 구성요소를 직접 입력"
   ]
  },
  {
   "cell_type": "code",
   "execution_count": 6,
   "metadata": {},
   "outputs": [
    {
     "name": "stdout",
     "output_type": "stream",
     "text": [
      "[1. 1. 1.]\n",
      "[0 1 2]\n",
      "[0 1 2]\n"
     ]
    }
   ],
   "source": [
    "data = np.ones(3)\n",
    "\n",
    "row_indices = np.arange(3)\n",
    "col_indices = np.arange(3)\n",
    "\n",
    "print(data)\n",
    "print(row_indices)\n",
    "print(col_indices)"
   ]
  },
  {
   "cell_type": "code",
   "execution_count": 7,
   "metadata": {},
   "outputs": [
    {
     "name": "stdout",
     "output_type": "stream",
     "text": [
      "<COOrdinate sparse matrix of dtype 'float64'\n",
      "\twith 3 stored elements and shape (3, 3)>\n",
      "  Coords\tValues\n",
      "  (0, 0)\t1.0\n",
      "  (1, 1)\t1.0\n",
      "  (2, 2)\t1.0\n"
     ]
    }
   ],
   "source": [
    "# sparse.coo_matrix를 이용\n",
    "\n",
    "sparse_matrix = sparse.coo_matrix((data,(row_indices,col_indices)))\n",
    "print(sparse_matrix)"
   ]
  },
  {
   "cell_type": "markdown",
   "metadata": {},
   "source": [
    "- todense() : dense matrix로 변환하여 모양을 확인\n",
    "- numpy.ndarray 로 변환"
   ]
  },
  {
   "cell_type": "markdown",
   "metadata": {},
   "source": [
    "#### 3. DoK format"
   ]
  },
  {
   "cell_type": "markdown",
   "metadata": {},
   "source": [
    "- Dictionary of keys의 약자이다.\n",
    "- 0이 아닌 값들의 위치를 저장하는 방식으로 (row, column)을 지니는 dict로 구성되어 있음\n",
    "- 직관적으로 x[i,j]에 접근하기가 쉽다."
   ]
  },
  {
   "cell_type": "code",
   "execution_count": 8,
   "metadata": {},
   "outputs": [
    {
     "name": "stdout",
     "output_type": "stream",
     "text": [
      "dict_keys([(np.int32(0), np.int32(0)), (np.int32(0), np.int32(4)), (np.int32(1), np.int32(1)), (np.int32(1), np.int32(3)), (np.int32(3), np.int32(0)), (np.int32(3), np.int32(3))])\n",
      "(np.int32(0), np.int32(0)) = 1\n",
      "(np.int32(0), np.int32(4)) = 2\n",
      "(np.int32(1), np.int32(1)) = 3\n",
      "(np.int32(1), np.int32(3)) = 4\n",
      "(np.int32(3), np.int32(0)) = 5\n",
      "(np.int32(3), np.int32(3)) = 6\n"
     ]
    }
   ],
   "source": [
    "from scipy.sparse import dok_matrix\n",
    "\n",
    "x = [[1,0,0,0,2],\n",
    "     [0,3,0,4,0],\n",
    "     [0,0,0,0,0],\n",
    "     [5,0,0,6,0]]\n",
    "\n",
    "dok = dok_matrix(x)\n",
    "\n",
    "# 0이 아닌 값이 여기에 있다는 것을 의미\n",
    "# dict_keys\n",
    "print(dok.keys())\n",
    "# dict_keys([(0, 0), (0, 4), (1, 1), (1, 3), (3, 0), (3, 3)])\n",
    "\n",
    "for key,value in dok.items():\n",
    "    print('{} = {}'.format(key, value))"
   ]
  },
  {
   "cell_type": "markdown",
   "metadata": {},
   "source": [
    "-  dok.nnz : non-zero의 개수\n",
    "-  dok.shape : matrix의 크기\n",
    "- 이 둘로 sparsity rate를 구할 수 있다."
   ]
  },
  {
   "cell_type": "code",
   "execution_count": 9,
   "metadata": {},
   "outputs": [
    {
     "name": "stdout",
     "output_type": "stream",
     "text": [
      "6\n",
      "(4, 5)\n",
      "0.7\n"
     ]
    }
   ],
   "source": [
    "print(dok.nnz)\n",
    "print(dok.shape)\n",
    "\n",
    "sparsity = 1 - dok.nnz / (dok.shape[0] * dok.shape[1])\n",
    "print(sparsity)\n"
   ]
  }
 ],
 "metadata": {
  "kernelspec": {
   "display_name": "envev",
   "language": "python",
   "name": "python3"
  },
  "language_info": {
   "codemirror_mode": {
    "name": "ipython",
    "version": 3
   },
   "file_extension": ".py",
   "mimetype": "text/x-python",
   "name": "python",
   "nbconvert_exporter": "python",
   "pygments_lexer": "ipython3",
   "version": "3.12.4"
  }
 },
 "nbformat": 4,
 "nbformat_minor": 2
}
